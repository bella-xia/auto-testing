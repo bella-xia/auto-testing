{
 "cells": [
  {
   "cell_type": "code",
   "execution_count": 5,
   "metadata": {},
   "outputs": [],
   "source": [
    "import os, json, subprocess\n",
    "import pandas as pd\n",
    "from tqdm import tqdm"
   ]
  },
  {
   "cell_type": "code",
   "execution_count": 2,
   "metadata": {},
   "outputs": [],
   "source": [
    "ROOT_DIR = '/home/bella-xia/auto-testing/data'\n",
    "MINIPROGRAM_CSV_DIR = os.path.join(ROOT_DIR, 'auxiliary_data', 'miniprogram_data.csv')\n",
    "MINIPROGRAM_LOC_DIR = os.path.join(ROOT_DIR, 'groundtruth')"
   ]
  },
  {
   "cell_type": "code",
   "execution_count": 3,
   "metadata": {},
   "outputs": [],
   "source": [
    "def run_move_file(miniprogram_name, new_dir):\n",
    "    subprocess.run(['mv', os.path.join(MINIPROGRAM_LOC_DIR, miniprogram_name), new_dir])"
   ]
  },
  {
   "cell_type": "code",
   "execution_count": 4,
   "metadata": {},
   "outputs": [
    {
     "data": {
      "text/html": [
       "<div>\n",
       "<style scoped>\n",
       "    .dataframe tbody tr th:only-of-type {\n",
       "        vertical-align: middle;\n",
       "    }\n",
       "\n",
       "    .dataframe tbody tr th {\n",
       "        vertical-align: top;\n",
       "    }\n",
       "\n",
       "    .dataframe thead th {\n",
       "        text-align: right;\n",
       "    }\n",
       "</style>\n",
       "<table border=\"1\" class=\"dataframe\">\n",
       "  <thead>\n",
       "    <tr style=\"text-align: right;\">\n",
       "      <th></th>\n",
       "      <th>MiniApp</th>\n",
       "      <th>Index</th>\n",
       "      <th>Problem</th>\n",
       "      <th>Problem_Spec</th>\n",
       "    </tr>\n",
       "  </thead>\n",
       "  <tbody>\n",
       "    <tr>\n",
       "      <th>0</th>\n",
       "      <td>wx4ce9c3cff6c3c610</td>\n",
       "      <td>0</td>\n",
       "      <td>NaN</td>\n",
       "      <td>NaN</td>\n",
       "    </tr>\n",
       "    <tr>\n",
       "      <th>1</th>\n",
       "      <td>wxaf291362a455b5e1</td>\n",
       "      <td>0</td>\n",
       "      <td>NaN</td>\n",
       "      <td>NaN</td>\n",
       "    </tr>\n",
       "    <tr>\n",
       "      <th>2</th>\n",
       "      <td>wx78d2ee5255a3ed63</td>\n",
       "      <td>0</td>\n",
       "      <td>NaN</td>\n",
       "      <td>NaN</td>\n",
       "    </tr>\n",
       "    <tr>\n",
       "      <th>3</th>\n",
       "      <td>wx94453ac9e8af894a</td>\n",
       "      <td>0</td>\n",
       "      <td>NaN</td>\n",
       "      <td>NaN</td>\n",
       "    </tr>\n",
       "    <tr>\n",
       "      <th>4</th>\n",
       "      <td>wx7a4e7d465ac09eea</td>\n",
       "      <td>0</td>\n",
       "      <td>NaN</td>\n",
       "      <td>NaN</td>\n",
       "    </tr>\n",
       "  </tbody>\n",
       "</table>\n",
       "</div>"
      ],
      "text/plain": [
       "              MiniApp  Index Problem Problem_Spec\n",
       "0  wx4ce9c3cff6c3c610      0     NaN          NaN\n",
       "1  wxaf291362a455b5e1      0     NaN          NaN\n",
       "2  wx78d2ee5255a3ed63      0     NaN          NaN\n",
       "3  wx94453ac9e8af894a      0     NaN          NaN\n",
       "4  wx7a4e7d465ac09eea      0     NaN          NaN"
      ]
     },
     "execution_count": 4,
     "metadata": {},
     "output_type": "execute_result"
    }
   ],
   "source": [
    "miniprogram_df = pd.read_csv(MINIPROGRAM_CSV_DIR)\n",
    "miniprogram_df.head()"
   ]
  },
  {
   "cell_type": "code",
   "execution_count": 7,
   "metadata": {},
   "outputs": [
    {
     "name": "stderr",
     "output_type": "stream",
     "text": [
      "  0%|          | 0/50 [00:00<?, ?it/s]"
     ]
    },
    {
     "name": "stderr",
     "output_type": "stream",
     "text": [
      "100%|██████████| 50/50 [00:00<00:00, 194.79it/s]\n"
     ]
    }
   ],
   "source": [
    "for idx in tqdm(range(len(miniprogram_df))):\n",
    "    miniprogram_instance = miniprogram_df.iloc[idx]\n",
    "    try:\n",
    "        run_move_file(miniprogram_instance['MiniApp'], os.path.join(ROOT_DIR, f\"groundtruth_{miniprogram_instance['Index']}\"))\n",
    "    except Exception as e:\n",
    "        print(f'having exception on idx {idx}')\n",
    "        print(e)\n",
    "        break"
   ]
  },
  {
   "cell_type": "code",
   "execution_count": null,
   "metadata": {},
   "outputs": [],
   "source": []
  }
 ],
 "metadata": {
  "kernelspec": {
   "display_name": "Python 3",
   "language": "python",
   "name": "python3"
  },
  "language_info": {
   "codemirror_mode": {
    "name": "ipython",
    "version": 3
   },
   "file_extension": ".py",
   "mimetype": "text/x-python",
   "name": "python",
   "nbconvert_exporter": "python",
   "pygments_lexer": "ipython3",
   "version": "3.10.12"
  }
 },
 "nbformat": 4,
 "nbformat_minor": 2
}
